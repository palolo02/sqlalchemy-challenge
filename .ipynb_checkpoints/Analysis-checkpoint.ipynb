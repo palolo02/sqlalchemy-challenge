{
 "cells": [
  {
   "cell_type": "code",
   "execution_count": null,
   "metadata": {},
   "outputs": [],
   "source": [
    "# Paolo Vega\n",
    "# SQLAlchemy Challenge\n",
    "# Bootcamp\n",
    "# Versión 1.0.0 May-03-2020\n",
    "# Versión 1.0.1 May-03-2020"
   ]
  },
  {
   "cell_type": "code",
   "execution_count": 1,
   "metadata": {},
   "outputs": [],
   "source": [
    "%matplotlib inline\n",
    "from matplotlib import style\n",
    "style.use('fivethirtyeight')\n",
    "import matplotlib.pyplot as plt"
   ]
  },
  {
   "cell_type": "code",
   "execution_count": 2,
   "metadata": {},
   "outputs": [],
   "source": [
    "import numpy as np\n",
    "import pandas as pd"
   ]
  },
  {
   "cell_type": "code",
   "execution_count": 135,
   "metadata": {},
   "outputs": [],
   "source": [
    "import datetime as dt\n",
    "from datetime import timedelta\n",
    "import matplotlib.dates as mdates\n",
    "from matplotlib.dates import DateFormatter\n",
    "import matplotlib.ticker as ticker"
   ]
  },
  {
   "cell_type": "markdown",
   "metadata": {},
   "source": [
    "# Reflect Tables into SQLAlchemy ORM"
   ]
  },
  {
   "cell_type": "code",
   "execution_count": 21,
   "metadata": {},
   "outputs": [],
   "source": [
    "# Python SQL toolkit and Object Relational Mapper\n",
    "import sqlalchemy\n",
    "from sqlalchemy.ext.automap import automap_base\n",
    "from sqlalchemy.orm import Session\n",
    "from sqlalchemy import create_engine, func, inspect"
   ]
  },
  {
   "cell_type": "code",
   "execution_count": 6,
   "metadata": {},
   "outputs": [],
   "source": [
    "engine = create_engine(\"sqlite:///Resources/hawaii.sqlite\")"
   ]
  },
  {
   "cell_type": "code",
   "execution_count": 7,
   "metadata": {},
   "outputs": [],
   "source": [
    "# reflect an existing database into a new model\n",
    "Base = automap_base()\n",
    "# reflect the tables\n",
    "Base.prepare(engine, reflect=True)"
   ]
  },
  {
   "cell_type": "code",
   "execution_count": 8,
   "metadata": {},
   "outputs": [
    {
     "data": {
      "text/plain": [
       "['measurement', 'station']"
      ]
     },
     "execution_count": 8,
     "metadata": {},
     "output_type": "execute_result"
    }
   ],
   "source": [
    "# We can view all of the classes that automap found\n",
    "Base.classes.keys()"
   ]
  },
  {
   "cell_type": "code",
   "execution_count": 12,
   "metadata": {},
   "outputs": [],
   "source": [
    "# Save references to each table\n",
    "Station = Base.classes.station\n",
    "Measurement = Base.classes.measurement"
   ]
  },
  {
   "cell_type": "code",
   "execution_count": 13,
   "metadata": {},
   "outputs": [],
   "source": [
    "# Create our session (link) from Python to the DB\n",
    "session = Session(engine)\n",
    "\n",
    "# Dictionary\n",
    "# station = {'id':'integer', 'station':'TEXT','name ':'TEXT','latitude':'FLOAT','longitude':'FLOAT','elevation':'FLOAT'}\n",
    "# measurement = {'id':'integer', 'station':'TEXT','date':'TEXT','prcp':'FLOAT','tobs':'FLOAT'}"
   ]
  },
  {
   "cell_type": "markdown",
   "metadata": {},
   "source": [
    "# Exploratory Climate Analysis"
   ]
  },
  {
   "cell_type": "code",
   "execution_count": 174,
   "metadata": {
    "scrolled": false
   },
   "outputs": [
    {
     "data": {
      "text/html": [
       "<div>\n",
       "<style scoped>\n",
       "    .dataframe tbody tr th:only-of-type {\n",
       "        vertical-align: middle;\n",
       "    }\n",
       "\n",
       "    .dataframe tbody tr th {\n",
       "        vertical-align: top;\n",
       "    }\n",
       "\n",
       "    .dataframe thead th {\n",
       "        text-align: right;\n",
       "    }\n",
       "</style>\n",
       "<table border=\"1\" class=\"dataframe\">\n",
       "  <thead>\n",
       "    <tr style=\"text-align: right;\">\n",
       "      <th></th>\n",
       "      <th>prcp</th>\n",
       "    </tr>\n",
       "    <tr>\n",
       "      <th>day</th>\n",
       "      <th></th>\n",
       "    </tr>\n",
       "  </thead>\n",
       "  <tbody>\n",
       "    <tr>\n",
       "      <th>2016-08-23</th>\n",
       "      <td>2.71</td>\n",
       "    </tr>\n",
       "    <tr>\n",
       "      <th>2016-08-24</th>\n",
       "      <td>9.33</td>\n",
       "    </tr>\n",
       "    <tr>\n",
       "      <th>2016-08-25</th>\n",
       "      <td>0.54</td>\n",
       "    </tr>\n",
       "    <tr>\n",
       "      <th>2016-08-26</th>\n",
       "      <td>0.10</td>\n",
       "    </tr>\n",
       "    <tr>\n",
       "      <th>2016-08-27</th>\n",
       "      <td>0.32</td>\n",
       "    </tr>\n",
       "  </tbody>\n",
       "</table>\n",
       "</div>"
      ],
      "text/plain": [
       "            prcp\n",
       "day             \n",
       "2016-08-23  2.71\n",
       "2016-08-24  9.33\n",
       "2016-08-25  0.54\n",
       "2016-08-26  0.10\n",
       "2016-08-27  0.32"
      ]
     },
     "metadata": {},
     "output_type": "display_data"
    }
   ],
   "source": [
    "# Design a query to retrieve the last 12 months of precipitation data and plot the results\n",
    "# Get latest date in database\n",
    "last_date = session.query(func.max(Measurement.date).label('last_date')).subquery('t')\n",
    "\n",
    "# Select fields for precipitaton per day\n",
    "# Need to update dynamic filter for 1 year *************************\n",
    "sel = [Measurement.date,\n",
    "      func.sum(Measurement.prcp)]\n",
    "precipitation = session.query(*sel).\\\n",
    "                filter(Measurement.date >= '2016-08-23').\\\n",
    "                filter(Measurement.date <= last_date.c.last_date).\\\n",
    "                group_by(Measurement.date).\\\n",
    "                order_by(Measurement.date).all()\n",
    "\n",
    "# Transform into dataframe\n",
    "precipitation = pd.DataFrame(precipitation, columns=[\"day\",\"prcp\"])\n",
    "# update datatype for day\n",
    "precipitation[\"day\"] = pd.to_datetime(precipitation[\"day\"])\n",
    "# update index to handle plot easily\n",
    "precipitation.set_index(\"day\",inplace=True)\n",
    "# See sample data\n",
    "display(precipitation.head())"
   ]
  },
  {
   "cell_type": "code",
   "execution_count": 175,
   "metadata": {},
   "outputs": [
    {
     "data": {
      "image/png": "[encoded data removed]",
      "text/plain": [
       "<Figure size 1080x576 with 1 Axes>"
      ]
     },
     "metadata": {},
     "output_type": "display_data"
    }
   ],
   "source": [
    "\n",
    "#Plot results\n",
    "fig, ax = plt.subplots(figsize=(15, 8))\n",
    "\n",
    "# Add x-axis and y-axis\n",
    "ax.bar(precipitation.index.values,\n",
    "       precipitation['prcp'],\n",
    "       color='darkblue')\n",
    "\n",
    "# Set title and labels for axes\n",
    "ax.set(xlabel=\"\",\n",
    "       ylabel=\"Precipitation (inches)\",\n",
    "       title=\"Daily Total Precipitation\\nAug 2016 - Aug 2017 for Huawaii\")\n",
    "\n",
    "# Set tick size and rotation\n",
    "plt.xticks(fontsize=10, rotation=45)\n",
    "# Set frequency for label each 30 days\n",
    "ax.xaxis.set_major_locator(ticker.MultipleLocator(30))\n",
    "# Set date format in graph\n",
    "date_form = DateFormatter(\"%b %Y\")\n",
    "ax.xaxis.set_major_formatter(date_form)\n",
    "\n",
    "plt.show()"
   ]
  },
  {
   "cell_type": "code",
   "execution_count": 176,
   "metadata": {},
   "outputs": [
    {
     "data": {
      "text/html": [
       "<div>\n",
       "<style scoped>\n",
       "    .dataframe tbody tr th:only-of-type {\n",
       "        vertical-align: middle;\n",
       "    }\n",
       "\n",
       "    .dataframe tbody tr th {\n",
       "        vertical-align: top;\n",
       "    }\n",
       "\n",
       "    .dataframe thead th {\n",
       "        text-align: right;\n",
       "    }\n",
       "</style>\n",
       "<table border=\"1\" class=\"dataframe\">\n",
       "  <thead>\n",
       "    <tr style=\"text-align: right;\">\n",
       "      <th></th>\n",
       "      <th>prcp</th>\n",
       "    </tr>\n",
       "  </thead>\n",
       "  <tbody>\n",
       "    <tr>\n",
       "      <th>count</th>\n",
       "      <td>366.000000</td>\n",
       "    </tr>\n",
       "    <tr>\n",
       "      <th>mean</th>\n",
       "      <td>0.978907</td>\n",
       "    </tr>\n",
       "    <tr>\n",
       "      <th>std</th>\n",
       "      <td>1.776349</td>\n",
       "    </tr>\n",
       "    <tr>\n",
       "      <th>min</th>\n",
       "      <td>0.000000</td>\n",
       "    </tr>\n",
       "    <tr>\n",
       "      <th>25%</th>\n",
       "      <td>0.052500</td>\n",
       "    </tr>\n",
       "    <tr>\n",
       "      <th>50%</th>\n",
       "      <td>0.405000</td>\n",
       "    </tr>\n",
       "    <tr>\n",
       "      <th>75%</th>\n",
       "      <td>1.087500</td>\n",
       "    </tr>\n",
       "    <tr>\n",
       "      <th>max</th>\n",
       "      <td>14.280000</td>\n",
       "    </tr>\n",
       "  </tbody>\n",
       "</table>\n",
       "</div>"
      ],
      "text/plain": [
       "             prcp\n",
       "count  366.000000\n",
       "mean     0.978907\n",
       "std      1.776349\n",
       "min      0.000000\n",
       "25%      0.052500\n",
       "50%      0.405000\n",
       "75%      1.087500\n",
       "max     14.280000"
      ]
     },
     "metadata": {},
     "output_type": "display_data"
    }
   ],
   "source": [
    "# Use Pandas to calculate the summary statistics for the precipitation data\n",
    "display(precipitation.describe())"
   ]
  },
  {
   "cell_type": "code",
   "execution_count": 206,
   "metadata": {},
   "outputs": [
    {
     "name": "stdout",
     "output_type": "stream",
     "text": [
      "Available stations: 9\n"
     ]
    }
   ],
   "source": [
    "# Design a query to show how many stations are available in this dataset?\n",
    "sel_stations = [func.count(Station.station)]\n",
    "no_stations = session.query(*sel_stations).all()\n",
    "print(f\"Available stations: {no_stations[0][0]}\")\n",
    "\n",
    "# Validation query\n",
    "# display(engine.execute(\"SELECT count(distinct s.station) as unique_stations FROM station s\").fetchall())"
   ]
  },
  {
   "cell_type": "code",
   "execution_count": 207,
   "metadata": {},
   "outputs": [
    {
     "name": "stdout",
     "output_type": "stream",
     "text": [
      "Most active stations in Hawaii - 2010 - 2017\n"
     ]
    },
    {
     "data": {
      "text/html": [
       "<div>\n",
       "<style scoped>\n",
       "    .dataframe tbody tr th:only-of-type {\n",
       "        vertical-align: middle;\n",
       "    }\n",
       "\n",
       "    .dataframe tbody tr th {\n",
       "        vertical-align: top;\n",
       "    }\n",
       "\n",
       "    .dataframe thead th {\n",
       "        text-align: right;\n",
       "    }\n",
       "</style>\n",
       "<table border=\"1\" class=\"dataframe\">\n",
       "  <thead>\n",
       "    <tr style=\"text-align: right;\">\n",
       "      <th></th>\n",
       "      <th>rows</th>\n",
       "    </tr>\n",
       "    <tr>\n",
       "      <th>station</th>\n",
       "      <th></th>\n",
       "    </tr>\n",
       "  </thead>\n",
       "  <tbody>\n",
       "    <tr>\n",
       "      <th>WAIHEE 837.5, HI US</th>\n",
       "      <td>2,772</td>\n",
       "    </tr>\n",
       "    <tr>\n",
       "      <th>WAIKIKI 717.2, HI US</th>\n",
       "      <td>2,724</td>\n",
       "    </tr>\n",
       "    <tr>\n",
       "      <th>KANEOHE 838.1, HI US</th>\n",
       "      <td>2,709</td>\n",
       "    </tr>\n",
       "    <tr>\n",
       "      <th>WAIMANALO EXPERIMENTAL FARM, HI US</th>\n",
       "      <td>2,669</td>\n",
       "    </tr>\n",
       "    <tr>\n",
       "      <th>MANOA LYON ARBO 785.2, HI US</th>\n",
       "      <td>2,612</td>\n",
       "    </tr>\n",
       "    <tr>\n",
       "      <th>KUALOA RANCH HEADQUARTERS 886.9, HI US</th>\n",
       "      <td>2,202</td>\n",
       "    </tr>\n",
       "    <tr>\n",
       "      <th>HONOLULU OBSERVATORY 702.2, HI US</th>\n",
       "      <td>1,979</td>\n",
       "    </tr>\n",
       "    <tr>\n",
       "      <th>PEARL CITY, HI US</th>\n",
       "      <td>1,372</td>\n",
       "    </tr>\n",
       "    <tr>\n",
       "      <th>UPPER WAHIAWA 874.3, HI US</th>\n",
       "      <td>511</td>\n",
       "    </tr>\n",
       "  </tbody>\n",
       "</table>\n",
       "</div>"
      ],
      "text/plain": [
       "                                         rows\n",
       "station                                      \n",
       "WAIHEE 837.5, HI US                     2,772\n",
       "WAIKIKI 717.2, HI US                    2,724\n",
       "KANEOHE 838.1, HI US                    2,709\n",
       "WAIMANALO EXPERIMENTAL FARM, HI US      2,669\n",
       "MANOA LYON ARBO 785.2, HI US            2,612\n",
       "KUALOA RANCH HEADQUARTERS 886.9, HI US  2,202\n",
       "HONOLULU OBSERVATORY 702.2, HI US       1,979\n",
       "PEARL CITY, HI US                       1,372\n",
       "UPPER WAHIAWA 874.3, HI US                511"
      ]
     },
     "metadata": {},
     "output_type": "display_data"
    }
   ],
   "source": [
    "# What are the most active stations? (i.e. what stations have the most rows)?\n",
    "# List the stations and the counts in descending order.\n",
    "sel_act_stations = [Station.name,\n",
    "                    func.count(Measurement.date)]\n",
    "active_stations = session.query(*sel_act_stations).\\\n",
    "                                filter(Station.station == Measurement.station).\\\n",
    "                                group_by(Station.station).\\\n",
    "                                order_by(func.count(Station.station).desc()).all()\n",
    "active_stations_df = pd.DataFrame(active_stations, columns=[\"station\",\"rows\"])\n",
    "active_stations_df.set_index(\"station\",inplace=True)\n",
    "active_stations_df[\"rows\"] = active_stations_df['rows'].map('{:,}'.format)\n",
    "print(\"Most active stations in Hawaii - 2010 - 2017\")\n",
    "display(active_stations_df)\n",
    "\n",
    "# Validation query\n",
    "#display(engine.execute(\"SELECT s.station, s.name, count(*) as rows \" + \n",
    "#                       \"FROM station s JOIN measurement m ON m.station=s.station \" + \n",
    "#                       \"GROUP BY s.station, s.name ORDER BY rows desc\").fetchall())"
   ]
  },
  {
   "cell_type": "code",
   "execution_count": 220,
   "metadata": {},
   "outputs": [
    {
     "data": {
      "text/html": [
       "<div>\n",
       "<style scoped>\n",
       "    .dataframe tbody tr th:only-of-type {\n",
       "        vertical-align: middle;\n",
       "    }\n",
       "\n",
       "    .dataframe tbody tr th {\n",
       "        vertical-align: top;\n",
       "    }\n",
       "\n",
       "    .dataframe thead th {\n",
       "        text-align: right;\n",
       "    }\n",
       "</style>\n",
       "<table border=\"1\" class=\"dataframe\">\n",
       "  <thead>\n",
       "    <tr style=\"text-align: right;\">\n",
       "      <th></th>\n",
       "      <th>name</th>\n",
       "      <th>Lowest Temp (°F)</th>\n",
       "      <th>Maximum Temp (°F)</th>\n",
       "      <th>Average Temp (°F)</th>\n",
       "    </tr>\n",
       "    <tr>\n",
       "      <th>station</th>\n",
       "      <th></th>\n",
       "      <th></th>\n",
       "      <th></th>\n",
       "      <th></th>\n",
       "    </tr>\n",
       "  </thead>\n",
       "  <tbody>\n",
       "    <tr>\n",
       "      <th>USC00519281</th>\n",
       "      <td>WAIHEE 837.5, HI US</td>\n",
       "      <td>54.0</td>\n",
       "      <td>85.0</td>\n",
       "      <td>71.663781</td>\n",
       "    </tr>\n",
       "  </tbody>\n",
       "</table>\n",
       "</div>"
      ],
      "text/plain": [
       "                            name  Lowest Temp (°F)  Maximum Temp (°F)  \\\n",
       "station                                                                 \n",
       "USC00519281  WAIHEE 837.5, HI US              54.0               85.0   \n",
       "\n",
       "             Average Temp (°F)  \n",
       "station                         \n",
       "USC00519281          71.663781  "
      ]
     },
     "metadata": {},
     "output_type": "display_data"
    }
   ],
   "source": [
    "# Using the station id from the previous query, calculate the lowest temperature recorded, \n",
    "# highest temperature recorded, and average temperature of the most active station?\n",
    "sel_most_act_station = [Station.name,\n",
    "                        Station.station,\n",
    "                        func.min(Measurement.tobs).label('low_temp'),\n",
    "                        func.max(Measurement.tobs).label('max_temp'),\n",
    "                        func.avg(Measurement.tobs).label('avg_temp')]\n",
    "most_active_stations = session.query(*sel_most_act_station).\\\n",
    "                                filter(Station.station == Measurement.station).\\\n",
    "                                filter(Station.station == 'USC00519281').\\\n",
    "                                group_by(Station.station).all()\n",
    "most_active_station_df = pd.DataFrame(most_active_stations, columns=[\"name\",\"station\",\n",
    "                                                                     \"Lowest Temp (°F)\",\n",
    "                                                                     \"Maximum Temp (°F)\",\n",
    "                                                                     \"Average Temp (°F)\"])\n",
    "most_active_station_df.set_index(\"station\",inplace=True)\n",
    "#active_stations_df[\"rows\"] = active_stations_df['rows'].map('{:,}'.format)\n",
    "display(most_active_station_df)\n",
    "\n",
    "# Validation query\n",
    "#display(engine.execute(\"SELECT s.station, s.name, min(m.tobs) as low_temp,  \" + \n",
    "#                       \"max(m.tobs) as Max_temp, avg(m.tobs) as Avg_temp \" + \n",
    "#                       \"FROM station s JOIN measurement m ON m.station=s.station \" + \n",
    "#                       \"WHERE s.station = 'USC00519281'\" + \n",
    "#                       \"GROUP BY s.station, s.name\").fetchall())"
   ]
  },
  {
   "cell_type": "code",
   "execution_count": 221,
   "metadata": {},
   "outputs": [
    {
     "data": {
      "text/html": [
       "<div>\n",
       "<style scoped>\n",
       "    .dataframe tbody tr th:only-of-type {\n",
       "        vertical-align: middle;\n",
       "    }\n",
       "\n",
       "    .dataframe tbody tr th {\n",
       "        vertical-align: top;\n",
       "    }\n",
       "\n",
       "    .dataframe thead th {\n",
       "        text-align: right;\n",
       "    }\n",
       "</style>\n",
       "<table border=\"1\" class=\"dataframe\">\n",
       "  <thead>\n",
       "    <tr style=\"text-align: right;\">\n",
       "      <th></th>\n",
       "      <th>temp</th>\n",
       "    </tr>\n",
       "    <tr>\n",
       "      <th>day</th>\n",
       "      <th></th>\n",
       "    </tr>\n",
       "  </thead>\n",
       "  <tbody>\n",
       "    <tr>\n",
       "      <th>2016-08-23</th>\n",
       "      <td>77.0</td>\n",
       "    </tr>\n",
       "    <tr>\n",
       "      <th>2016-08-24</th>\n",
       "      <td>77.0</td>\n",
       "    </tr>\n",
       "    <tr>\n",
       "      <th>2016-08-25</th>\n",
       "      <td>80.0</td>\n",
       "    </tr>\n",
       "    <tr>\n",
       "      <th>2016-08-26</th>\n",
       "      <td>80.0</td>\n",
       "    </tr>\n",
       "    <tr>\n",
       "      <th>2016-08-27</th>\n",
       "      <td>75.0</td>\n",
       "    </tr>\n",
       "  </tbody>\n",
       "</table>\n",
       "</div>"
      ],
      "text/plain": [
       "            temp\n",
       "day             \n",
       "2016-08-23  77.0\n",
       "2016-08-24  77.0\n",
       "2016-08-25  80.0\n",
       "2016-08-26  80.0\n",
       "2016-08-27  75.0"
      ]
     },
     "metadata": {},
     "output_type": "display_data"
    }
   ],
   "source": [
    "# Choose the station with the highest number of temperature observations.\n",
    "# Query the last 12 months of temperature observation data for this station and plot the results as a histogram\n",
    "sel_waihee_data = [Measurement.date,\n",
    "                   Measurement.tobs]\n",
    "waihee_data = session.query(*sel_waihee_data).\\\n",
    "                filter(Measurement.station == 'USC00519281').\\\n",
    "                filter(Measurement.date >= '2016-08-23').\\\n",
    "                filter(Measurement.date <= last_date.c.last_date).\\\n",
    "                group_by(Measurement.date).\\\n",
    "                order_by(Measurement.date).all()\n",
    "\n",
    "# Transform into dataframe\n",
    "waihee_df = pd.DataFrame(waihee_data, columns=[\"day\",\"temp\"])\n",
    "# update datatype for day\n",
    "waihee_df[\"day\"] = pd.to_datetime(waihee_df[\"day\"])\n",
    "# update index to handle plot easily\n",
    "waihee_df.set_index(\"day\",inplace=True)\n",
    "# See sample data\n",
    "display(waihee_df.head())"
   ]
  },
  {
   "cell_type": "code",
   "execution_count": 226,
   "metadata": {},
   "outputs": [
    {
     "data": {
      "image/png": "[encoded data removed]",
      "text/plain": [
       "<Figure size 1080x576 with 1 Axes>"
      ]
     },
     "metadata": {},
     "output_type": "display_data"
    }
   ],
   "source": [
    "#Plot results\n",
    "# Validate information ********************\n",
    "waihee_df.plot(kind=\"hist\",figsize=(15, 8), bins=15, title=\"Temperature histogram for Waihee in 2016 - 2017\")\n",
    "plt.show()"
   ]
  },
  {
   "cell_type": "markdown",
   "metadata": {},
   "source": [
    "## Bonus Challenge Assignment"
   ]
  },
  {
   "cell_type": "code",
   "execution_count": null,
   "metadata": {},
   "outputs": [],
   "source": [
    "# This function called `calc_temps` will accept start date and end date in the format '%Y-%m-%d' \n",
    "# and return the minimum, average, and maximum temperatures for that range of dates\n",
    "def calc_temps(start_date, end_date):\n",
    "    \"\"\"TMIN, TAVG, and TMAX for a list of dates.\n",
    "    \n",
    "    Args:\n",
    "        start_date (string): A date string in the format %Y-%m-%d\n",
    "        end_date (string): A date string in the format %Y-%m-%d\n",
    "        \n",
    "    Returns:\n",
    "        TMIN, TAVE, and TMAX\n",
    "    \"\"\"\n",
    "    \n",
    "    return session.query(func.min(Measurement.tobs), func.avg(Measurement.tobs), func.max(Measurement.tobs)).\\\n",
    "        filter(Measurement.date >= start_date).filter(Measurement.date <= end_date).all()\n",
    "\n",
    "# function usage example\n",
    "print(calc_temps('2012-02-28', '2012-03-05'))"
   ]
  },
  {
   "cell_type": "code",
   "execution_count": null,
   "metadata": {},
   "outputs": [],
   "source": [
    "# Use your previous function `calc_temps` to calculate the tmin, tavg, and tmax \n",
    "# for your trip using the previous year's data for those same dates.\n"
   ]
  },
  {
   "cell_type": "code",
   "execution_count": null,
   "metadata": {},
   "outputs": [],
   "source": [
    "# Plot the results from your previous query as a bar chart. \n",
    "# Use \"Trip Avg Temp\" as your Title\n",
    "# Use the average temperature for the y value\n",
    "# Use the peak-to-peak (tmax-tmin) value as the y error bar (yerr)\n"
   ]
  },
  {
   "cell_type": "code",
   "execution_count": null,
   "metadata": {},
   "outputs": [],
   "source": [
    "# Calculate the total amount of rainfall per weather station for your trip dates using the previous year's matching dates.\n",
    "# Sort this in descending order by precipitation amount and list the station, name, latitude, longitude, and elevation\n",
    "\n"
   ]
  },
  {
   "cell_type": "code",
   "execution_count": null,
   "metadata": {},
   "outputs": [],
   "source": [
    "# Create a query that will calculate the daily normals \n",
    "# (i.e. the averages for tmin, tmax, and tavg for all historic data matching a specific month and day)\n",
    "\n",
    "def daily_normals(date):\n",
    "    \"\"\"Daily Normals.\n",
    "    \n",
    "    Args:\n",
    "        date (str): A date string in the format '%m-%d'\n",
    "        \n",
    "    Returns:\n",
    "        A list of tuples containing the daily normals, tmin, tavg, and tmax\n",
    "    \n",
    "    \"\"\"\n",
    "    \n",
    "    sel = [func.min(Measurement.tobs), func.avg(Measurement.tobs), func.max(Measurement.tobs)]\n",
    "    return session.query(*sel).filter(func.strftime(\"%m-%d\", Measurement.date) == date).all()\n",
    "    \n",
    "daily_normals(\"01-01\")"
   ]
  },
  {
   "cell_type": "code",
   "execution_count": null,
   "metadata": {},
   "outputs": [],
   "source": [
    "# calculate the daily normals for your trip\n",
    "# push each tuple of calculations into a list called `normals`\n",
    "\n",
    "# Set the start and end date of the trip\n",
    "\n",
    "# Use the start and end date to create a range of dates\n",
    "\n",
    "# Stip off the year and save a list of %m-%d strings\n",
    "\n",
    "# Loop through the list of %m-%d strings and calculate the normals for each date\n"
   ]
  },
  {
   "cell_type": "code",
   "execution_count": null,
   "metadata": {},
   "outputs": [],
   "source": [
    "# Load the previous query results into a Pandas DataFrame and add the `trip_dates` range as the `date` index\n"
   ]
  },
  {
   "cell_type": "code",
   "execution_count": null,
   "metadata": {},
   "outputs": [],
   "source": [
    "# Plot the daily normals as an area plot with `stacked=False`\n"
   ]
  }
 ],
 "metadata": {
  "kernel_info": {
   "name": "python3"
  },
  "kernelspec": {
   "display_name": "Python 3",
   "language": "python",
   "name": "python3"
  },
  "language_info": {
   "codemirror_mode": {
    "name": "ipython",
    "version": 3
   },
   "file_extension": ".py",
   "mimetype": "text/x-python",
   "name": "python",
   "nbconvert_exporter": "python",
   "pygments_lexer": "ipython3",
   "version": "3.8.0"
  },
  "nteract": {
   "version": "0.12.3"
  },
  "varInspector": {
   "cols": {
    "lenName": 16,
    "lenType": 16,
    "lenVar": 40
   },
   "kernels_config": {
    "python": {
     "delete_cmd_postfix": "",
     "delete_cmd_prefix": "del ",
     "library": "var_list.py",
     "varRefreshCmd": "print(var_dic_list())"
    },
    "r": {
     "delete_cmd_postfix": ") ",
     "delete_cmd_prefix": "rm(",
     "library": "var_list.r",
     "varRefreshCmd": "cat(var_dic_list()) "
    }
   },
   "types_to_exclude": [
    "module",
    "function",
    "builtin_function_or_method",
    "instance",
    "_Feature"
   ],
   "window_display": false
  }
 },
 "nbformat": 4,
 "nbformat_minor": 2
}
